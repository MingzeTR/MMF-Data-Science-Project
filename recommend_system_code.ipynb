{
 "cells": [
  {
   "cell_type": "code",
   "execution_count": 2,
   "metadata": {},
   "outputs": [],
   "source": [
    "#Dataframe manipulation library\n",
    "import pandas as pd\n",
    "#Math functions, we'll only need the sqrt function so let's import only that\n",
    "from math import sqrt\n",
    "import numpy as np\n",
    "import matplotlib.pyplot as plt"
   ]
  },
  {
   "cell_type": "code",
   "execution_count": 11,
   "metadata": {},
   "outputs": [],
   "source": [
    "#Storing the input item information into a pandas dataframe\n",
    "inputitem_df = pd.read_csv('inputItems.csv')\n",
    "#Storing the user information into a pandas dataframe\n",
    "ratings_df = pd.read_csv('ratings.csv')\n",
    "#Storing the mean rating of other users with common category \n",
    "userSubsetCate_df = pd.read_csv('userSubsetCate.csv')"
   ]
  },
  {
   "cell_type": "code",
   "execution_count": 25,
   "metadata": {},
   "outputs": [],
   "source": [
    "userSubsetCateGroup_df = userSubsetCate_df.groupby(['user_id'])\n",
    "userSubsetCateGroupSample_df = sorted(userSubsetCateGroup_df, key=lambda x: len(x[1]), reverse=True)"
   ]
  },
  {
   "cell_type": "code",
   "execution_count": 26,
   "metadata": {},
   "outputs": [
    {
     "data": {
      "text/plain": [
       "[('ALSAOZ1V546VT',\n",
       "          Unnamed: 0        user_id           cate_name    rating\n",
       "  105997      105997  ALSAOZ1V546VT                 Ant  5.000000\n",
       "  105998      105998  ALSAOZ1V546VT  Cacti & Succulents  5.000000\n",
       "  105999      105999  ALSAOZ1V546VT            Deer Off  5.000000\n",
       "  106000      106000  ALSAOZ1V546VT             Feeders  3.800000\n",
       "  106001      106001  ALSAOZ1V546VT             Flowers  4.750000\n",
       "  106002      106002  ALSAOZ1V546VT        Garden Hoses  5.000000\n",
       "  106003      106003  ALSAOZ1V546VT          Hand Tools  5.000000\n",
       "  106004      106004  ALSAOZ1V546VT     Hooks & Hangers  5.000000\n",
       "  106005      106005  ALSAOZ1V546VT               Lures  1.000000\n",
       "  106006      106006  ALSAOZ1V546VT            Planters  5.000000\n",
       "  106007      106007  ALSAOZ1V546VT        Pool Enzymes  5.000000\n",
       "  106008      106008  ALSAOZ1V546VT              Stands  5.000000\n",
       "  106009      106009  ALSAOZ1V546VT               Traps  3.666667),\n",
       " ('A3HPCRD9RX351S',\n",
       "         Unnamed: 0         user_id     cate_name    rating\n",
       "  78108       78108  A3HPCRD9RX351S      Deer Off  4.500000\n",
       "  78109       78109  A3HPCRD9RX351S       Feeders  4.571429\n",
       "  78110       78110  A3HPCRD9RX351S       Flowers  4.000000\n",
       "  78111       78111  A3HPCRD9RX351S  Garden Hoses  4.000000\n",
       "  78112       78112  A3HPCRD9RX351S    Hand Tools  5.000000\n",
       "  78113       78113  A3HPCRD9RX351S         Lures  5.000000\n",
       "  78114       78114  A3HPCRD9RX351S      Planters  4.000000\n",
       "  78115       78115  A3HPCRD9RX351S        Stands  5.000000\n",
       "  78116       78116  A3HPCRD9RX351S         Traps  4.600000),\n",
       " ('A100WO06OQR8BQ',\n",
       "       Unnamed: 0         user_id     cate_name    rating\n",
       "  106         106  A100WO06OQR8BQ           Ant  1.000000\n",
       "  107         107  A100WO06OQR8BQ      Deer Off  3.000000\n",
       "  108         108  A100WO06OQR8BQ       Feeders  4.142857\n",
       "  109         109  A100WO06OQR8BQ  Garden Hoses  4.625000\n",
       "  110         110  A100WO06OQR8BQ    Hand Tools  5.000000\n",
       "  111         111  A100WO06OQR8BQ         Lures  1.000000\n",
       "  112         112  A100WO06OQR8BQ      Planters  1.000000\n",
       "  113         113  A100WO06OQR8BQ         Traps  3.090909)]"
      ]
     },
     "execution_count": 26,
     "metadata": {},
     "output_type": "execute_result"
    }
   ],
   "source": [
    "userSubsetCateGroupSample_df[0:3]"
   ]
  },
  {
   "cell_type": "code",
   "execution_count": 28,
   "metadata": {},
   "outputs": [
    {
     "ename": "ValueError",
     "evalue": "math domain error",
     "output_type": "error",
     "traceback": [
      "\u001b[0;31m---------------------------------------------------------------------------\u001b[0m",
      "\u001b[0;31mValueError\u001b[0m                                Traceback (most recent call last)",
      "\u001b[0;32m<ipython-input-28-2d029c33b687>\u001b[0m in \u001b[0;36m<module>\u001b[0;34m\u001b[0m\n\u001b[1;32m     22\u001b[0m     \u001b[0;31m#If the denominator is different than zero, then divide, else, 0 correlation.\u001b[0m\u001b[0;34m\u001b[0m\u001b[0;34m\u001b[0m\u001b[0;34m\u001b[0m\u001b[0m\n\u001b[1;32m     23\u001b[0m     \u001b[0;32mif\u001b[0m \u001b[0mSxx\u001b[0m \u001b[0;34m!=\u001b[0m \u001b[0;36m0\u001b[0m \u001b[0;32mand\u001b[0m \u001b[0mSyy\u001b[0m \u001b[0;34m!=\u001b[0m \u001b[0;36m0\u001b[0m\u001b[0;34m:\u001b[0m\u001b[0;34m\u001b[0m\u001b[0;34m\u001b[0m\u001b[0m\n\u001b[0;32m---> 24\u001b[0;31m         \u001b[0mpearsonCorrelationDict\u001b[0m\u001b[0;34m[\u001b[0m\u001b[0mname\u001b[0m\u001b[0;34m]\u001b[0m \u001b[0;34m=\u001b[0m \u001b[0mSxy\u001b[0m\u001b[0;34m/\u001b[0m\u001b[0msqrt\u001b[0m\u001b[0;34m(\u001b[0m\u001b[0mSxx\u001b[0m\u001b[0;34m*\u001b[0m\u001b[0mSyy\u001b[0m\u001b[0;34m)\u001b[0m\u001b[0;34m\u001b[0m\u001b[0;34m\u001b[0m\u001b[0m\n\u001b[0m\u001b[1;32m     25\u001b[0m     \u001b[0;32melse\u001b[0m\u001b[0;34m:\u001b[0m\u001b[0;34m\u001b[0m\u001b[0;34m\u001b[0m\u001b[0m\n\u001b[1;32m     26\u001b[0m         \u001b[0mpearsonCorrelationDict\u001b[0m\u001b[0;34m[\u001b[0m\u001b[0mname\u001b[0m\u001b[0;34m]\u001b[0m \u001b[0;34m=\u001b[0m \u001b[0;36m0\u001b[0m\u001b[0;34m\u001b[0m\u001b[0;34m\u001b[0m\u001b[0m\n",
      "\u001b[0;31mValueError\u001b[0m: math domain error"
     ]
    }
   ],
   "source": [
    "\n",
    "#Store the Pearson Correlation in a dictionary, where the key is the user Id and the value is the coefficient\n",
    "pearsonCorrelationDict = {}\n",
    "\n",
    "#For every user group in our subset\n",
    "for name, group in userSubsetCateGroupSample_df:\n",
    "    #Let's start by sorting the input and current user group so the values aren't mixed up later on\n",
    "    group = group.sort_values(by='cate_name')\n",
    "    inputitem_df = inputitem_df.sort_values(by='cate_name')\n",
    "    #Get the N for the formula\n",
    "    nRatings = len(group)\n",
    "    #Get the review scores for the items that they both have in common\n",
    "    temp_df = inputitem_df[inputitem_df['cate_name'].isin(group['cate_name'].tolist())]\n",
    "    #And then store them in a temporary buffer variable in a list format to facilitate future calculations\n",
    "    tempRatingList = temp_df['rating'].tolist()\n",
    "    #Let's also put the current user group reviews in a list format\n",
    "    tempGroupList = group['rating'].tolist()\n",
    "    #Now let's calculate the pearson correlation between two users, so called, x and y\n",
    "    Sxx = sum([i**2 for i in tempRatingList]) - pow(sum(tempRatingList),2)/float(nRatings)\n",
    "    Syy = sum([i**2 for i in tempGroupList]) - pow(sum(tempGroupList),2)/float(nRatings)\n",
    "    Sxy = sum( i*j for i, j in zip(tempRatingList, tempGroupList)) - sum(tempRatingList)*sum(tempGroupList)/float(nRatings)\n",
    "    \n",
    "    #If the denominator is different than zero, then divide, else, 0 correlation.\n",
    "    if Sxx != 0 and Syy != 0:\n",
    "        pearsonCorrelationDict[name] = Sxy/sqrt(Sxx*Syy)\n",
    "    else:\n",
    "        pearsonCorrelationDict[name] = 0"
   ]
  },
  {
   "cell_type": "code",
   "execution_count": null,
   "metadata": {},
   "outputs": [],
   "source": []
  }
 ],
 "metadata": {
  "kernelspec": {
   "display_name": "Python 3",
   "language": "python",
   "name": "python3"
  },
  "language_info": {
   "codemirror_mode": {
    "name": "ipython",
    "version": 3
   },
   "file_extension": ".py",
   "mimetype": "text/x-python",
   "name": "python",
   "nbconvert_exporter": "python",
   "pygments_lexer": "ipython3",
   "version": "3.8.5"
  }
 },
 "nbformat": 4,
 "nbformat_minor": 5
}
