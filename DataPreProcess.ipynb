{
 "cells": [
  {
   "cell_type": "code",
   "execution_count": 1,
   "metadata": {},
   "outputs": [],
   "source": [
    "# basics\n",
    "import argparse\n",
    "import os\n",
    "import pickle\n",
    "import pandas as pd\n",
    "import matplotlib.pyplot as plt\n",
    "import numpy as np\n",
    "import time\n",
    "import ast\n",
    "\n",
    "\n",
    "# sklearn imports\n",
    "from sklearn.model_selection import train_test_split, cross_val_score\n",
    "from sklearn.neighbors import NearestNeighbors\n",
    "from sklearn.preprocessing import normalize"
   ]
  },
  {
   "cell_type": "code",
   "execution_count": 34,
   "metadata": {},
   "outputs": [],
   "source": [
    "# The dataframe of overall item-base user rating records (including those of Pikachu)\n",
    "# Column name: user_id(primary key for user), \n",
    "#              item_id(primary key for item, can find corresponding item: https://www.amazon.com/dp/'item_id'), \n",
    "#              rating, \n",
    "#              datetime(from timestamp, converted to YYYY-MM-DD format), \n",
    "#              cate_name(the category the item belongs to)\n",
    "ratings_df = pd.read_csv(\"ratings.csv\",usecols = ['user_id','item_id','rating','datetime','cate_name'])"
   ]
  },
  {
   "cell_type": "code",
   "execution_count": 35,
   "metadata": {},
   "outputs": [
    {
     "data": {
      "text/html": [
       "<div>\n",
       "<style scoped>\n",
       "    .dataframe tbody tr th:only-of-type {\n",
       "        vertical-align: middle;\n",
       "    }\n",
       "\n",
       "    .dataframe tbody tr th {\n",
       "        vertical-align: top;\n",
       "    }\n",
       "\n",
       "    .dataframe thead th {\n",
       "        text-align: right;\n",
       "    }\n",
       "</style>\n",
       "<table border=\"1\" class=\"dataframe\">\n",
       "  <thead>\n",
       "    <tr style=\"text-align: right;\">\n",
       "      <th></th>\n",
       "      <th>user_id</th>\n",
       "      <th>item_id</th>\n",
       "      <th>rating</th>\n",
       "      <th>datetime</th>\n",
       "      <th>cate_name</th>\n",
       "    </tr>\n",
       "  </thead>\n",
       "  <tbody>\n",
       "    <tr>\n",
       "      <th>0</th>\n",
       "      <td>A2VNYWOPJ13AFP</td>\n",
       "      <td>0981850006</td>\n",
       "      <td>5.0</td>\n",
       "      <td>2009-12-03</td>\n",
       "      <td>Combination Grill Brushes &amp; Scrapers</td>\n",
       "    </tr>\n",
       "    <tr>\n",
       "      <th>1</th>\n",
       "      <td>A20DWVV8HML3AW</td>\n",
       "      <td>0981850006</td>\n",
       "      <td>5.0</td>\n",
       "      <td>2013-06-13</td>\n",
       "      <td>Combination Grill Brushes &amp; Scrapers</td>\n",
       "    </tr>\n",
       "    <tr>\n",
       "      <th>2</th>\n",
       "      <td>A3RVP3YBYYOPRH</td>\n",
       "      <td>0981850006</td>\n",
       "      <td>5.0</td>\n",
       "      <td>2009-11-12</td>\n",
       "      <td>Combination Grill Brushes &amp; Scrapers</td>\n",
       "    </tr>\n",
       "    <tr>\n",
       "      <th>3</th>\n",
       "      <td>A28XY55TP3Q90O</td>\n",
       "      <td>0981850006</td>\n",
       "      <td>5.0</td>\n",
       "      <td>2011-08-24</td>\n",
       "      <td>Combination Grill Brushes &amp; Scrapers</td>\n",
       "    </tr>\n",
       "    <tr>\n",
       "      <th>4</th>\n",
       "      <td>A3VZW1BGUQO0V3</td>\n",
       "      <td>0981850006</td>\n",
       "      <td>5.0</td>\n",
       "      <td>2011-06-17</td>\n",
       "      <td>Combination Grill Brushes &amp; Scrapers</td>\n",
       "    </tr>\n",
       "  </tbody>\n",
       "</table>\n",
       "</div>"
      ],
      "text/plain": [
       "          user_id     item_id  rating    datetime  \\\n",
       "0  A2VNYWOPJ13AFP  0981850006     5.0  2009-12-03   \n",
       "1  A20DWVV8HML3AW  0981850006     5.0  2013-06-13   \n",
       "2  A3RVP3YBYYOPRH  0981850006     5.0  2009-11-12   \n",
       "3  A28XY55TP3Q90O  0981850006     5.0  2011-08-24   \n",
       "4  A3VZW1BGUQO0V3  0981850006     5.0  2011-06-17   \n",
       "\n",
       "                              cate_name  \n",
       "0  Combination Grill Brushes & Scrapers  \n",
       "1  Combination Grill Brushes & Scrapers  \n",
       "2  Combination Grill Brushes & Scrapers  \n",
       "3  Combination Grill Brushes & Scrapers  \n",
       "4  Combination Grill Brushes & Scrapers  "
      ]
     },
     "execution_count": 35,
     "metadata": {},
     "output_type": "execute_result"
    }
   ],
   "source": [
    "# Sample rows for 'ratings_df'\n",
    "ratings_df.head()"
   ]
  },
  {
   "cell_type": "code",
   "execution_count": 36,
   "metadata": {},
   "outputs": [],
   "source": [
    "# The input dataframe of Pikachu(user_id = 'ALSAOZ1V546VT')\n",
    "# Include all items pikachu has rated and the corresponding ratings\n",
    "inputItems_df = pd.read_csv(\"inputItems.csv\",usecols = ['item_id','rating','datetime','cate_name'])"
   ]
  },
  {
   "cell_type": "code",
   "execution_count": 37,
   "metadata": {},
   "outputs": [
    {
     "data": {
      "text/html": [
       "<div>\n",
       "<style scoped>\n",
       "    .dataframe tbody tr th:only-of-type {\n",
       "        vertical-align: middle;\n",
       "    }\n",
       "\n",
       "    .dataframe tbody tr th {\n",
       "        vertical-align: top;\n",
       "    }\n",
       "\n",
       "    .dataframe thead th {\n",
       "        text-align: right;\n",
       "    }\n",
       "</style>\n",
       "<table border=\"1\" class=\"dataframe\">\n",
       "  <thead>\n",
       "    <tr style=\"text-align: right;\">\n",
       "      <th></th>\n",
       "      <th>item_id</th>\n",
       "      <th>rating</th>\n",
       "      <th>datetime</th>\n",
       "      <th>cate_name</th>\n",
       "    </tr>\n",
       "  </thead>\n",
       "  <tbody>\n",
       "    <tr>\n",
       "      <th>0</th>\n",
       "      <td>B00004RBDZ</td>\n",
       "      <td>5.0</td>\n",
       "      <td>2009-05-22</td>\n",
       "      <td>Traps</td>\n",
       "    </tr>\n",
       "    <tr>\n",
       "      <th>1</th>\n",
       "      <td>B00004TBKG</td>\n",
       "      <td>5.0</td>\n",
       "      <td>2009-05-25</td>\n",
       "      <td>Traps</td>\n",
       "    </tr>\n",
       "    <tr>\n",
       "      <th>2</th>\n",
       "      <td>B000A0VOD2</td>\n",
       "      <td>5.0</td>\n",
       "      <td>2013-02-26</td>\n",
       "      <td>Deer Off</td>\n",
       "    </tr>\n",
       "    <tr>\n",
       "      <th>3</th>\n",
       "      <td>B000FZYW36</td>\n",
       "      <td>5.0</td>\n",
       "      <td>2010-07-15</td>\n",
       "      <td>Hooks &amp; Hangers</td>\n",
       "    </tr>\n",
       "    <tr>\n",
       "      <th>4</th>\n",
       "      <td>B000KL3GEQ</td>\n",
       "      <td>5.0</td>\n",
       "      <td>2013-07-12</td>\n",
       "      <td>Planters</td>\n",
       "    </tr>\n",
       "  </tbody>\n",
       "</table>\n",
       "</div>"
      ],
      "text/plain": [
       "      item_id  rating    datetime        cate_name\n",
       "0  B00004RBDZ     5.0  2009-05-22            Traps\n",
       "1  B00004TBKG     5.0  2009-05-25            Traps\n",
       "2  B000A0VOD2     5.0  2013-02-26         Deer Off\n",
       "3  B000FZYW36     5.0  2010-07-15  Hooks & Hangers\n",
       "4  B000KL3GEQ     5.0  2013-07-12         Planters"
      ]
     },
     "execution_count": 37,
     "metadata": {},
     "output_type": "execute_result"
    }
   ],
   "source": [
    "# Sample rows for 'inputItems_df'\n",
    "inputItems_df.head()"
   ]
  },
  {
   "cell_type": "code",
   "execution_count": 38,
   "metadata": {},
   "outputs": [],
   "source": [
    "# The dataframe of other users with common categories of item and their corresponding mean rating of category-based \n",
    "userSubsetCate_df = pd.read_csv('userSubsetCate.csv',usecols = ['user_id','cate_name','rating'])\n",
    "# Remove the rating record of Pikachu\n",
    "userSubsetCate_df.drop(userSubsetCate_df[userSubsetCate_df['user_id']=='ALSAOZ1V546VT'].index, inplace = True)"
   ]
  },
  {
   "cell_type": "code",
   "execution_count": 39,
   "metadata": {},
   "outputs": [
    {
     "data": {
      "text/html": [
       "<div>\n",
       "<style scoped>\n",
       "    .dataframe tbody tr th:only-of-type {\n",
       "        vertical-align: middle;\n",
       "    }\n",
       "\n",
       "    .dataframe tbody tr th {\n",
       "        vertical-align: top;\n",
       "    }\n",
       "\n",
       "    .dataframe thead th {\n",
       "        text-align: right;\n",
       "    }\n",
       "</style>\n",
       "<table border=\"1\" class=\"dataframe\">\n",
       "  <thead>\n",
       "    <tr style=\"text-align: right;\">\n",
       "      <th></th>\n",
       "      <th>user_id</th>\n",
       "      <th>cate_name</th>\n",
       "      <th>rating</th>\n",
       "    </tr>\n",
       "  </thead>\n",
       "  <tbody>\n",
       "    <tr>\n",
       "      <th>0</th>\n",
       "      <td>A002764429D4LF2SJIT18</td>\n",
       "      <td>Traps</td>\n",
       "      <td>1.0</td>\n",
       "    </tr>\n",
       "    <tr>\n",
       "      <th>1</th>\n",
       "      <td>A00311601FOXCO2AIRNIF</td>\n",
       "      <td>Lures</td>\n",
       "      <td>3.5</td>\n",
       "    </tr>\n",
       "    <tr>\n",
       "      <th>2</th>\n",
       "      <td>A00400301PNPWZTJFR6RA</td>\n",
       "      <td>Lures</td>\n",
       "      <td>4.0</td>\n",
       "    </tr>\n",
       "    <tr>\n",
       "      <th>3</th>\n",
       "      <td>A00406841NIK2FFZHXPC8</td>\n",
       "      <td>Planters</td>\n",
       "      <td>4.0</td>\n",
       "    </tr>\n",
       "    <tr>\n",
       "      <th>4</th>\n",
       "      <td>A004176027NXFTHNBG3MW</td>\n",
       "      <td>Flowers</td>\n",
       "      <td>4.0</td>\n",
       "    </tr>\n",
       "  </tbody>\n",
       "</table>\n",
       "</div>"
      ],
      "text/plain": [
       "                 user_id cate_name  rating\n",
       "0  A002764429D4LF2SJIT18     Traps     1.0\n",
       "1  A00311601FOXCO2AIRNIF     Lures     3.5\n",
       "2  A00400301PNPWZTJFR6RA     Lures     4.0\n",
       "3  A00406841NIK2FFZHXPC8  Planters     4.0\n",
       "4  A004176027NXFTHNBG3MW   Flowers     4.0"
      ]
     },
     "execution_count": 39,
     "metadata": {},
     "output_type": "execute_result"
    }
   ],
   "source": [
    "# Sample rows for 'userSubsetCate_df'\n",
    "userSubsetCate_df.head()"
   ]
  },
  {
   "cell_type": "markdown",
   "metadata": {},
   "source": [
    "Two possible methods for finding similarity: "
   ]
  },
  {
   "cell_type": "raw",
   "metadata": {},
   "source": [
    "# Method 1: \n",
    "1. Use function 'create_user_item_matrix'(need a little bit parameters change) to create a user-item(category) matrix from userSubsetCate_df. 'userSubsetCate_df' corresonds to 'ratings' in function 'create_user_item_matrix'\n",
    "\n",
    "2. Use sklearn.neighbors.NearestNeighbors to find similar users. See code in main.py ('question == \"1.2\"' part) for NearestNeighbors part and corresonding similarity metrics."
   ]
  },
  {
   "cell_type": "code",
   "execution_count": null,
   "metadata": {},
   "outputs": [],
   "source": [
    "# Create the user-item matrix for similarity \n",
    "\n",
    "def create_user_item_matrix(ratings, user_key=\"user\",item_key=\"item\"):\n",
    "\n",
    "    n = len(set(ratings[user_key]))\n",
    "    d = len(set(ratings[item_key]))\n",
    "\n",
    "    user_mapper = dict(zip(np.unique(ratings[user_key]), list(range(n))))\n",
    "    item_mapper = dict(zip(np.unique(ratings[item_key]), list(range(d))))\n",
    "\n",
    "    user_inverse_mapper = dict(zip(list(range(n)), np.unique(ratings[user_key])))\n",
    "    item_inverse_mapper = dict(zip(list(range(d)), np.unique(ratings[item_key])))\n",
    "\n",
    "    user_ind = [user_mapper[i] for i in ratings[user_key]]\n",
    "    item_ind = [item_mapper[i] for i in ratings[item_key]]\n",
    "\n",
    "    # csr_matrix((data, (row_ind, col_ind)), [shape=(M, N)])\n",
    "    # where data, row_ind and col_ind satisfy the relationship a[row_ind[k], col_ind[k]] = data[k].\n",
    "    X = sparse_matrix((ratings[\"rating\"], (user_ind, item_ind)), shape=(n,d))\n",
    "    \n",
    "    return X, user_mapper, item_mapper, user_inverse_mapper, item_inverse_mapper, user_ind, item_ind    "
   ]
  },
  {
   "cell_type": "markdown",
   "metadata": {},
   "source": []
  },
  {
   "cell_type": "markdown",
   "metadata": {},
   "source": [
    "Method 2: \n",
    "Follow Happer's code starting from 'Similarity of users to input user' part. 'userSubsetCateGroupSample_df' corresponds to 'userSubsetGroup'"
   ]
  },
  {
   "cell_type": "code",
   "execution_count": 28,
   "metadata": {},
   "outputs": [],
   "source": [
    "userSubsetCateGroup_df = userSubsetCate_df.groupby(['user_id'])\n",
    "userSubsetCateGroupSample_df = sorted(userSubsetCateGroup_df, key=lambda x: len(x[1]), reverse=True)"
   ]
  },
  {
   "cell_type": "code",
   "execution_count": 33,
   "metadata": {
    "scrolled": true
   },
   "outputs": [
    {
     "data": {
      "text/plain": [
       "[('A3HPCRD9RX351S',               user_id     cate_name    rating\n",
       "  78108  A3HPCRD9RX351S      Deer Off  4.500000\n",
       "  78109  A3HPCRD9RX351S       Feeders  4.571429\n",
       "  78110  A3HPCRD9RX351S       Flowers  4.000000\n",
       "  78111  A3HPCRD9RX351S  Garden Hoses  4.000000\n",
       "  78112  A3HPCRD9RX351S    Hand Tools  5.000000\n",
       "  78113  A3HPCRD9RX351S         Lures  5.000000\n",
       "  78114  A3HPCRD9RX351S      Planters  4.000000\n",
       "  78115  A3HPCRD9RX351S        Stands  5.000000\n",
       "  78116  A3HPCRD9RX351S         Traps  4.600000),\n",
       " ('A100WO06OQR8BQ',             user_id     cate_name    rating\n",
       "  106  A100WO06OQR8BQ           Ant  1.000000\n",
       "  107  A100WO06OQR8BQ      Deer Off  3.000000\n",
       "  108  A100WO06OQR8BQ       Feeders  4.142857\n",
       "  109  A100WO06OQR8BQ  Garden Hoses  4.625000\n",
       "  110  A100WO06OQR8BQ    Hand Tools  5.000000\n",
       "  111  A100WO06OQR8BQ         Lures  1.000000\n",
       "  112  A100WO06OQR8BQ      Planters  1.000000\n",
       "  113  A100WO06OQR8BQ         Traps  3.090909),\n",
       " ('A2G7B7FKP2O2PU',               user_id     cate_name  rating\n",
       "  45385  A2G7B7FKP2O2PU      Deer Off     3.0\n",
       "  45386  A2G7B7FKP2O2PU       Feeders     5.0\n",
       "  45387  A2G7B7FKP2O2PU  Garden Hoses     3.0\n",
       "  45388  A2G7B7FKP2O2PU    Hand Tools     4.0\n",
       "  45389  A2G7B7FKP2O2PU         Lures     5.0\n",
       "  45390  A2G7B7FKP2O2PU      Planters     5.0\n",
       "  45391  A2G7B7FKP2O2PU        Stands     4.0\n",
       "  45392  A2G7B7FKP2O2PU         Traps     5.0)]"
      ]
     },
     "execution_count": 33,
     "metadata": {},
     "output_type": "execute_result"
    }
   ],
   "source": [
    "userSubsetCateGroupSample_df[0:3]"
   ]
  },
  {
   "cell_type": "code",
   "execution_count": null,
   "metadata": {},
   "outputs": [],
   "source": []
  }
 ],
 "metadata": {
  "kernelspec": {
   "display_name": "Python 3",
   "language": "python",
   "name": "python3"
  },
  "language_info": {
   "codemirror_mode": {
    "name": "ipython",
    "version": 3
   },
   "file_extension": ".py",
   "mimetype": "text/x-python",
   "name": "python",
   "nbconvert_exporter": "python",
   "pygments_lexer": "ipython3",
   "version": "3.6.8"
  }
 },
 "nbformat": 4,
 "nbformat_minor": 2
}
